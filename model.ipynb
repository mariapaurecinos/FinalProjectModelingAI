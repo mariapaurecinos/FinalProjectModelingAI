{
 "cells": [
  {
   "cell_type": "markdown",
   "id": "20f53b23",
   "metadata": {},
   "source": [
    "**entorno virtual**:\n",
    "hf_env\\Scripts\\activate"
   ]
  },
  {
   "cell_type": "code",
   "execution_count": 37,
   "id": "c665cfe8",
   "metadata": {},
   "outputs": [],
   "source": [
    "import pandas as pd\n",
    "import numpy as np\n",
    "from sklearn.model_selection import train_test_split\n",
    "import tensorflow as tf\n",
    "from tensorflow import keras\n",
    "from tensorflow.keras import layers\n",
    "import torch\n",
    "from transformers import AutoTokenizer, AutoModelForSequenceClassification\n",
    "from transformers import Trainer\n",
    "from sklearn.model_selection import ParameterGrid\n",
    "import numpy as np\n",
    "from datasets import Dataset\n",
    "from transformers import TrainingArguments\n",
    "from torch.utils.data import Subset"
   ]
  },
  {
   "cell_type": "code",
   "execution_count": 8,
   "id": "fa523d13",
   "metadata": {},
   "outputs": [],
   "source": [
    "# Download latest version\n",
    "#https://www.kaggle.com/datasets/clmentbisaillon/fake-and-real-news-dataset"
   ]
  },
  {
   "cell_type": "code",
   "execution_count": 9,
   "id": "4a776825",
   "metadata": {},
   "outputs": [],
   "source": [
    "fake = pd.read_csv(r'C:\\Users\\REPO\\Tec2025\\ModelingAI\\Reto\\data sets\\Fake.csv')\n",
    "true = pd.read_csv(r'C:\\Users\\REPO\\Tec2025\\ModelingAI\\Reto\\data sets\\True.csv')"
   ]
  },
  {
   "cell_type": "code",
   "execution_count": 10,
   "id": "fd666a35",
   "metadata": {},
   "outputs": [
    {
     "data": {
      "text/html": [
       "<div>\n",
       "<style scoped>\n",
       "    .dataframe tbody tr th:only-of-type {\n",
       "        vertical-align: middle;\n",
       "    }\n",
       "\n",
       "    .dataframe tbody tr th {\n",
       "        vertical-align: top;\n",
       "    }\n",
       "\n",
       "    .dataframe thead th {\n",
       "        text-align: right;\n",
       "    }\n",
       "</style>\n",
       "<table border=\"1\" class=\"dataframe\">\n",
       "  <thead>\n",
       "    <tr style=\"text-align: right;\">\n",
       "      <th></th>\n",
       "      <th>title</th>\n",
       "      <th>text</th>\n",
       "      <th>subject</th>\n",
       "      <th>date</th>\n",
       "    </tr>\n",
       "  </thead>\n",
       "  <tbody>\n",
       "    <tr>\n",
       "      <th>0</th>\n",
       "      <td>Donald Trump Sends Out Embarrassing New Year’...</td>\n",
       "      <td>Donald Trump just couldn t wish all Americans ...</td>\n",
       "      <td>News</td>\n",
       "      <td>December 31, 2017</td>\n",
       "    </tr>\n",
       "    <tr>\n",
       "      <th>1</th>\n",
       "      <td>Drunk Bragging Trump Staffer Started Russian ...</td>\n",
       "      <td>House Intelligence Committee Chairman Devin Nu...</td>\n",
       "      <td>News</td>\n",
       "      <td>December 31, 2017</td>\n",
       "    </tr>\n",
       "    <tr>\n",
       "      <th>2</th>\n",
       "      <td>Sheriff David Clarke Becomes An Internet Joke...</td>\n",
       "      <td>On Friday, it was revealed that former Milwauk...</td>\n",
       "      <td>News</td>\n",
       "      <td>December 30, 2017</td>\n",
       "    </tr>\n",
       "    <tr>\n",
       "      <th>3</th>\n",
       "      <td>Trump Is So Obsessed He Even Has Obama’s Name...</td>\n",
       "      <td>On Christmas day, Donald Trump announced that ...</td>\n",
       "      <td>News</td>\n",
       "      <td>December 29, 2017</td>\n",
       "    </tr>\n",
       "    <tr>\n",
       "      <th>4</th>\n",
       "      <td>Pope Francis Just Called Out Donald Trump Dur...</td>\n",
       "      <td>Pope Francis used his annual Christmas Day mes...</td>\n",
       "      <td>News</td>\n",
       "      <td>December 25, 2017</td>\n",
       "    </tr>\n",
       "  </tbody>\n",
       "</table>\n",
       "</div>"
      ],
      "text/plain": [
       "                                               title  \\\n",
       "0   Donald Trump Sends Out Embarrassing New Year’...   \n",
       "1   Drunk Bragging Trump Staffer Started Russian ...   \n",
       "2   Sheriff David Clarke Becomes An Internet Joke...   \n",
       "3   Trump Is So Obsessed He Even Has Obama’s Name...   \n",
       "4   Pope Francis Just Called Out Donald Trump Dur...   \n",
       "\n",
       "                                                text subject  \\\n",
       "0  Donald Trump just couldn t wish all Americans ...    News   \n",
       "1  House Intelligence Committee Chairman Devin Nu...    News   \n",
       "2  On Friday, it was revealed that former Milwauk...    News   \n",
       "3  On Christmas day, Donald Trump announced that ...    News   \n",
       "4  Pope Francis used his annual Christmas Day mes...    News   \n",
       "\n",
       "                date  \n",
       "0  December 31, 2017  \n",
       "1  December 31, 2017  \n",
       "2  December 30, 2017  \n",
       "3  December 29, 2017  \n",
       "4  December 25, 2017  "
      ]
     },
     "execution_count": 10,
     "metadata": {},
     "output_type": "execute_result"
    }
   ],
   "source": [
    "fake.head()"
   ]
  },
  {
   "cell_type": "code",
   "execution_count": 11,
   "id": "3edb8fe5",
   "metadata": {},
   "outputs": [
    {
     "data": {
      "text/html": [
       "<div>\n",
       "<style scoped>\n",
       "    .dataframe tbody tr th:only-of-type {\n",
       "        vertical-align: middle;\n",
       "    }\n",
       "\n",
       "    .dataframe tbody tr th {\n",
       "        vertical-align: top;\n",
       "    }\n",
       "\n",
       "    .dataframe thead th {\n",
       "        text-align: right;\n",
       "    }\n",
       "</style>\n",
       "<table border=\"1\" class=\"dataframe\">\n",
       "  <thead>\n",
       "    <tr style=\"text-align: right;\">\n",
       "      <th></th>\n",
       "      <th>title</th>\n",
       "      <th>text</th>\n",
       "      <th>subject</th>\n",
       "      <th>date</th>\n",
       "    </tr>\n",
       "  </thead>\n",
       "  <tbody>\n",
       "    <tr>\n",
       "      <th>count</th>\n",
       "      <td>23481</td>\n",
       "      <td>23481</td>\n",
       "      <td>23481</td>\n",
       "      <td>23481</td>\n",
       "    </tr>\n",
       "    <tr>\n",
       "      <th>unique</th>\n",
       "      <td>17903</td>\n",
       "      <td>17455</td>\n",
       "      <td>6</td>\n",
       "      <td>1681</td>\n",
       "    </tr>\n",
       "    <tr>\n",
       "      <th>top</th>\n",
       "      <td>MEDIA IGNORES Time That Bill Clinton FIRED His...</td>\n",
       "      <td></td>\n",
       "      <td>News</td>\n",
       "      <td>May 10, 2017</td>\n",
       "    </tr>\n",
       "    <tr>\n",
       "      <th>freq</th>\n",
       "      <td>6</td>\n",
       "      <td>626</td>\n",
       "      <td>9050</td>\n",
       "      <td>46</td>\n",
       "    </tr>\n",
       "  </tbody>\n",
       "</table>\n",
       "</div>"
      ],
      "text/plain": [
       "                                                    title   text subject  \\\n",
       "count                                               23481  23481   23481   \n",
       "unique                                              17903  17455       6   \n",
       "top     MEDIA IGNORES Time That Bill Clinton FIRED His...           News   \n",
       "freq                                                    6    626    9050   \n",
       "\n",
       "                date  \n",
       "count          23481  \n",
       "unique          1681  \n",
       "top     May 10, 2017  \n",
       "freq              46  "
      ]
     },
     "execution_count": 11,
     "metadata": {},
     "output_type": "execute_result"
    }
   ],
   "source": [
    "fake.describe()"
   ]
  },
  {
   "cell_type": "code",
   "execution_count": 12,
   "id": "d201acf6",
   "metadata": {},
   "outputs": [
    {
     "data": {
      "text/html": [
       "<div>\n",
       "<style scoped>\n",
       "    .dataframe tbody tr th:only-of-type {\n",
       "        vertical-align: middle;\n",
       "    }\n",
       "\n",
       "    .dataframe tbody tr th {\n",
       "        vertical-align: top;\n",
       "    }\n",
       "\n",
       "    .dataframe thead th {\n",
       "        text-align: right;\n",
       "    }\n",
       "</style>\n",
       "<table border=\"1\" class=\"dataframe\">\n",
       "  <thead>\n",
       "    <tr style=\"text-align: right;\">\n",
       "      <th></th>\n",
       "      <th>title</th>\n",
       "      <th>text</th>\n",
       "      <th>subject</th>\n",
       "      <th>date</th>\n",
       "    </tr>\n",
       "  </thead>\n",
       "  <tbody>\n",
       "    <tr>\n",
       "      <th>count</th>\n",
       "      <td>21417</td>\n",
       "      <td>21417</td>\n",
       "      <td>21417</td>\n",
       "      <td>21417</td>\n",
       "    </tr>\n",
       "    <tr>\n",
       "      <th>unique</th>\n",
       "      <td>20826</td>\n",
       "      <td>21192</td>\n",
       "      <td>2</td>\n",
       "      <td>716</td>\n",
       "    </tr>\n",
       "    <tr>\n",
       "      <th>top</th>\n",
       "      <td>Factbox: Trump fills top jobs for his administ...</td>\n",
       "      <td>(Reuters) - Highlights for U.S. President Dona...</td>\n",
       "      <td>politicsNews</td>\n",
       "      <td>December 20, 2017</td>\n",
       "    </tr>\n",
       "    <tr>\n",
       "      <th>freq</th>\n",
       "      <td>14</td>\n",
       "      <td>8</td>\n",
       "      <td>11272</td>\n",
       "      <td>182</td>\n",
       "    </tr>\n",
       "  </tbody>\n",
       "</table>\n",
       "</div>"
      ],
      "text/plain": [
       "                                                    title  \\\n",
       "count                                               21417   \n",
       "unique                                              20826   \n",
       "top     Factbox: Trump fills top jobs for his administ...   \n",
       "freq                                                   14   \n",
       "\n",
       "                                                     text       subject  \\\n",
       "count                                               21417         21417   \n",
       "unique                                              21192             2   \n",
       "top     (Reuters) - Highlights for U.S. President Dona...  politicsNews   \n",
       "freq                                                    8         11272   \n",
       "\n",
       "                      date  \n",
       "count                21417  \n",
       "unique                 716  \n",
       "top     December 20, 2017   \n",
       "freq                   182  "
      ]
     },
     "execution_count": 12,
     "metadata": {},
     "output_type": "execute_result"
    }
   ],
   "source": [
    "true.describe()"
   ]
  },
  {
   "cell_type": "code",
   "execution_count": 13,
   "id": "ce4028b2",
   "metadata": {},
   "outputs": [],
   "source": [
    "fake['Type'] = 0\n",
    "true['Type'] = 1"
   ]
  },
  {
   "cell_type": "code",
   "execution_count": 14,
   "id": "8905fc86",
   "metadata": {},
   "outputs": [],
   "source": [
    "df = pd.concat([fake, true], ignore_index=True)"
   ]
  },
  {
   "cell_type": "code",
   "execution_count": 15,
   "id": "4521fa47",
   "metadata": {},
   "outputs": [
    {
     "data": {
      "text/plain": [
       "title      38729\n",
       "text       38646\n",
       "subject        8\n",
       "date        2397\n",
       "Type           2\n",
       "dtype: int64"
      ]
     },
     "execution_count": 15,
     "metadata": {},
     "output_type": "execute_result"
    }
   ],
   "source": [
    "df.nunique()"
   ]
  },
  {
   "cell_type": "markdown",
   "id": "4a7023b4",
   "metadata": {},
   "source": [
    "# Transformer Models"
   ]
  },
  {
   "cell_type": "code",
   "execution_count": 16,
   "id": "7fd10bb7",
   "metadata": {},
   "outputs": [],
   "source": [
    "# Load model directly\n",
    "#https://huggingface.co/therealcyberlord/fake-news-classification-distilbert\n",
    "\n",
    "tokenizer = AutoTokenizer.from_pretrained(\"therealcyberlord/fake-news-classification-distilbert\")\n",
    "model = AutoModelForSequenceClassification.from_pretrained(\"therealcyberlord/fake-news-classification-distilbert\")"
   ]
  },
  {
   "cell_type": "markdown",
   "id": "26aeb9ce",
   "metadata": {},
   "source": [
    "Separar en Train y Test"
   ]
  },
  {
   "cell_type": "code",
   "execution_count": 17,
   "id": "26e24bea",
   "metadata": {},
   "outputs": [],
   "source": [
    "# Paso 1: Separar texto y etiquetas\n",
    "texts = df[\"text\"].tolist()\n",
    "labels = df[\"Type\"].tolist()  # Asegúrate que estén codificadas como 0, 1, 2..."
   ]
  },
  {
   "cell_type": "code",
   "execution_count": 18,
   "id": "cd8e0753",
   "metadata": {},
   "outputs": [],
   "source": [
    "# Paso 2: Split\n",
    "texts_train, texts_test, labels_train, labels_test = train_test_split(\n",
    "    texts, labels, test_size=0.2, random_state=42, stratify=labels\n",
    ")"
   ]
  },
  {
   "cell_type": "code",
   "execution_count": 19,
   "id": "8bbe4a0e",
   "metadata": {},
   "outputs": [],
   "source": [
    "# Paso 3: Tokenizar cada parte\n",
    "train_encodings = tokenizer(texts_train, truncation=True, padding=\"max_length\", max_length=512, return_tensors=\"pt\")\n",
    "test_encodings = tokenizer(texts_test, truncation=True, padding=\"max_length\", max_length=512, return_tensors=\"pt\")"
   ]
  },
  {
   "cell_type": "code",
   "execution_count": 20,
   "id": "e24c8c07",
   "metadata": {},
   "outputs": [],
   "source": [
    "# Paso 4: Convertir etiquetas a tensores\n",
    "train_labels = torch.tensor(labels_train)\n",
    "test_labels = torch.tensor(labels_test)"
   ]
  },
  {
   "cell_type": "markdown",
   "id": "8673d26c",
   "metadata": {},
   "source": [
    "Hyperparameter Tuning"
   ]
  },
  {
   "cell_type": "code",
   "execution_count": 21,
   "id": "4f484011",
   "metadata": {},
   "outputs": [],
   "source": [
    "from torch.utils.data import Dataset\n",
    "\n",
    "class NewsDataset(Dataset):\n",
    "    def __init__(self, encodings, labels):\n",
    "        self.encodings = encodings\n",
    "        self.labels = labels\n",
    "    \n",
    "    def __getitem__(self, idx):\n",
    "        return {\n",
    "            \"input_ids\": self.encodings[\"input_ids\"][idx],\n",
    "            \"attention_mask\": self.encodings[\"attention_mask\"][idx],\n",
    "            \"labels\": self.labels[idx]\n",
    "        }\n",
    "    \n",
    "    def __len__(self):\n",
    "        return len(self.labels)\n",
    "\n",
    "train_dataset = NewsDataset(train_encodings, train_labels)\n",
    "test_dataset = NewsDataset(test_encodings, test_labels)\n"
   ]
  },
  {
   "cell_type": "code",
   "execution_count": 27,
   "id": "5396d630",
   "metadata": {},
   "outputs": [],
   "source": [
    "# Paso 5: Modelo base para tuning\n",
    "def model_init():\n",
    "    return AutoModelForSequenceClassification.from_pretrained(\n",
    "        \"therealcyberlord/fake-news-classification-distilbert\",\n",
    "        num_labels=2\n",
    "    )\n",
    "\n",
    "# Paso 6: Argumentos base\n",
    "training_args = TrainingArguments(\n",
    "    output_dir=\"./results\",\n",
    "    eval_strategy=\"epoch\",\n",
    "    num_train_epochs=2,  # ¡menos epochs!\n",
    "    per_device_train_batch_size=16,\n",
    "    per_device_eval_batch_size=16,\n",
    "    save_strategy=\"no\",  # no guardar checkpoints\n",
    "    disable_tqdm=True,   # desactiva barra de progreso para más velocidad\n",
    "    logging_steps=5,\n",
    ")"
   ]
  },
  {
   "cell_type": "code",
   "execution_count": 29,
   "id": "03ba7d02",
   "metadata": {},
   "outputs": [
    {
     "name": "stderr",
     "output_type": "stream",
     "text": [
      "C:\\Users\\Maria Paula\\AppData\\Local\\Temp\\ipykernel_21132\\1273127256.py:2: FutureWarning: `tokenizer` is deprecated and will be removed in version 5.0.0 for `Trainer.__init__`. Use `processing_class` instead.\n",
      "  trainer = Trainer(\n"
     ]
    }
   ],
   "source": [
    " # Paso 7: Entrenador\n",
    "trainer = Trainer(\n",
    "    model_init=model_init,\n",
    "    args=training_args,\n",
    "    train_dataset=train_dataset,\n",
    "    eval_dataset=test_dataset,\n",
    "    tokenizer=tokenizer,\n",
    ")"
   ]
  },
  {
   "cell_type": "code",
   "execution_count": null,
   "id": "d2a1afc2",
   "metadata": {},
   "outputs": [
    {
     "name": "stderr",
     "output_type": "stream",
     "text": [
      "C:\\Users\\Maria Paula\\AppData\\Local\\Temp\\ipykernel_21132\\1490677563.py:23: FutureWarning: `tokenizer` is deprecated and will be removed in version 5.0.0 for `Trainer.__init__`. Use `processing_class` instead.\n",
      "  trainer_small = Trainer(\n"
     ]
    }
   ],
   "source": [
    "# Paso 8: Hyperparameter Tuning\n",
    "# Solo una fracción para tuning\n",
    "\n",
    "# ⚠️ Primero define los argumentos de entrenamiento\n",
    "training_args = TrainingArguments(\n",
    "    output_dir=\"./results\",\n",
    "    eval_strategy=\"epoch\",\n",
    "    num_train_epochs=1, \n",
    "    per_device_train_batch_size=8,\n",
    "    per_device_eval_batch_size=8,\n",
    "    save_strategy=\"no\",\n",
    "    logging_strategy=\"no\",\n",
    "    report_to=\"none\",\n",
    "    disable_tqdm=True\n",
    ")\n",
    "\n",
    "# Usa solo una fracción del dataset para tuning\n",
    "small_train_dataset = Subset(train_dataset, range(100))\n",
    "small_eval_dataset = Subset(test_dataset, range(25))\n",
    "\n",
    "# Entrenador reducido\n",
    "trainer_small = Trainer(\n",
    "    model_init=model_init,\n",
    "    args=training_args,\n",
    "    train_dataset=small_train_dataset,\n",
    "    eval_dataset=small_eval_dataset,\n",
    "    tokenizer=tokenizer,\n",
    ")\n"
   ]
  },
  {
   "cell_type": "code",
   "execution_count": 42,
   "id": "ca0c91c7",
   "metadata": {},
   "outputs": [
    {
     "name": "stderr",
     "output_type": "stream",
     "text": [
      "[I 2025-06-15 21:28:07,670] A new study created in memory with name: no-name-e79e3c38-a960-4988-a681-046c49b5755b\n"
     ]
    },
    {
     "name": "stdout",
     "output_type": "stream",
     "text": [
      "{'eval_loss': 0.00010838471644092351, 'eval_runtime': 15.2352, 'eval_samples_per_second': 1.641, 'eval_steps_per_second': 0.263, 'epoch': 1.0}\n",
      "{'eval_loss': 4.133018956054002e-05, 'eval_runtime': 8.0488, 'eval_samples_per_second': 3.106, 'eval_steps_per_second': 0.497, 'epoch': 2.0}\n",
      "{'train_runtime': 380.2473, 'train_samples_per_second': 0.526, 'train_steps_per_second': 0.068, 'train_loss': 0.08520175860478328, 'epoch': 2.0}\n"
     ]
    },
    {
     "name": "stderr",
     "output_type": "stream",
     "text": [
      "[I 2025-06-15 21:34:29,069] Trial 0 finished with value: 4.133018956054002e-05 and parameters: {'learning_rate': 0.0001920050530625184, 'per_device_train_batch_size': 8, 'num_train_epochs': 2}. Best is trial 0 with value: 4.133018956054002e-05.\n"
     ]
    },
    {
     "name": "stdout",
     "output_type": "stream",
     "text": [
      "{'eval_loss': 0.00010841807670658454, 'eval_runtime': 8.4576, 'eval_samples_per_second': 2.956, 'eval_steps_per_second': 0.473, 'epoch': 1.0}\n",
      "{'eval_loss': 4.13492634834256e-05, 'eval_runtime': 12.8736, 'eval_samples_per_second': 1.942, 'eval_steps_per_second': 0.311, 'epoch': 2.0}\n",
      "{'train_runtime': 392.0536, 'train_samples_per_second': 0.51, 'train_steps_per_second': 0.066, 'train_loss': 0.08528337111839882, 'epoch': 2.0}\n"
     ]
    },
    {
     "name": "stderr",
     "output_type": "stream",
     "text": [
      "[I 2025-06-15 21:42:23,640] Trial 1 finished with value: 4.13492634834256e-05 and parameters: {'learning_rate': 0.00019189545486618118, 'per_device_train_batch_size': 8, 'num_train_epochs': 2}. Best is trial 1 with value: 4.13492634834256e-05.\n"
     ]
    },
    {
     "name": "stdout",
     "output_type": "stream",
     "text": [
      "{'eval_loss': 0.16466876864433289, 'eval_runtime': 8.2228, 'eval_samples_per_second': 3.04, 'eval_steps_per_second': 0.486, 'epoch': 1.0}\n",
      "{'eval_loss': 0.003275063820183277, 'eval_runtime': 9.4227, 'eval_samples_per_second': 2.653, 'eval_steps_per_second': 0.425, 'epoch': 2.0}\n",
      "{'train_runtime': 369.1585, 'train_samples_per_second': 0.542, 'train_steps_per_second': 0.049, 'train_loss': 0.424124797185262, 'epoch': 2.0}\n"
     ]
    },
    {
     "name": "stderr",
     "output_type": "stream",
     "text": [
      "[I 2025-06-15 21:49:54,747] Trial 2 finished with value: 0.003275063820183277 and parameters: {'learning_rate': 0.00041816745324925307, 'per_device_train_batch_size': 12, 'num_train_epochs': 2}. Best is trial 2 with value: 0.003275063820183277.\n"
     ]
    },
    {
     "name": "stdout",
     "output_type": "stream",
     "text": [
      "{'eval_loss': 0.00020294850401114672, 'eval_runtime': 8.6753, 'eval_samples_per_second': 2.882, 'eval_steps_per_second': 0.461, 'epoch': 1.0}\n",
      "{'eval_loss': 5.876116847502999e-05, 'eval_runtime': 11.1212, 'eval_samples_per_second': 2.248, 'eval_steps_per_second': 0.36, 'epoch': 2.0}\n",
      "{'train_runtime': 367.531, 'train_samples_per_second': 0.544, 'train_steps_per_second': 0.071, 'train_loss': 0.05953762622979971, 'epoch': 2.0}\n"
     ]
    },
    {
     "name": "stderr",
     "output_type": "stream",
     "text": [
      "[I 2025-06-15 21:57:23,999] Trial 3 finished with value: 5.876116847502999e-05 and parameters: {'learning_rate': 0.00010454424080998872, 'per_device_train_batch_size': 8, 'num_train_epochs': 2}. Best is trial 2 with value: 0.003275063820183277.\n"
     ]
    },
    {
     "name": "stdout",
     "output_type": "stream",
     "text": [
      "{'eval_loss': 4.643296779249795e-05, 'eval_runtime': 8.0217, 'eval_samples_per_second': 3.117, 'eval_steps_per_second': 0.499, 'epoch': 1.0}\n",
      "{'train_runtime': 154.2585, 'train_samples_per_second': 0.648, 'train_steps_per_second': 0.084, 'train_loss': 0.2675761259519137, 'epoch': 1.0}\n"
     ]
    },
    {
     "name": "stderr",
     "output_type": "stream",
     "text": [
      "[I 2025-06-15 22:01:19,788] Trial 4 finished with value: 4.643296779249795e-05 and parameters: {'learning_rate': 0.0003200084656278733, 'per_device_train_batch_size': 8, 'num_train_epochs': 1}. Best is trial 2 with value: 0.003275063820183277.\n"
     ]
    },
    {
     "name": "stdout",
     "output_type": "stream",
     "text": [
      "Best run: BestRun(run_id='2', objective=0.003275063820183277, hyperparameters={'learning_rate': 0.00041816745324925307, 'per_device_train_batch_size': 12, 'num_train_epochs': 2}, run_summary=None)\n"
     ]
    }
   ],
   "source": [
    "# Búsqueda de hiperparámetros con Optuna\n",
    "best_run = trainer_small.hyperparameter_search(\n",
    "    direction=\"maximize\",\n",
    "    n_trials=5,\n",
    "    hp_space=lambda trial: {\n",
    "        \"learning_rate\": trial.suggest_float(\"learning_rate\", 5e-5, 5e-4, log=True),\n",
    "        \"per_device_train_batch_size\": trial.suggest_categorical(\"per_device_train_batch_size\", [8, 12]),\n",
    "        \"num_train_epochs\": trial.suggest_int(\"num_train_epochs\", 1, 2),\n",
    "    }\n",
    ")\n",
    "\n",
    "print(\"Best run:\", best_run)\n"
   ]
  },
  {
   "cell_type": "markdown",
   "id": "1bd9e95f",
   "metadata": {},
   "source": [
    "# Obtener metricas con los mejores parametros"
   ]
  },
  {
   "cell_type": "code",
   "execution_count": 46,
   "id": "7002cfd8",
   "metadata": {},
   "outputs": [],
   "source": [
    "from transformers import Trainer, TrainingArguments\n",
    "from sklearn.metrics import accuracy_score, precision_recall_fscore_support, confusion_matrix, classification_report\n",
    "import numpy as np\n",
    "import matplotlib.pyplot as plt\n",
    "import seaborn as sns"
   ]
  },
  {
   "cell_type": "code",
   "execution_count": null,
   "id": "4b058211",
   "metadata": {},
   "outputs": [],
   "source": [
    "# Paso 1: Redefinir compute_metrics\n",
    "def compute_metrics(eval_pred):\n",
    "    logits, labels = eval_pred\n",
    "    predictions = np.argmax(logits, axis=-1)\n",
    "    precision, recall, f1, _ = precision_recall_fscore_support(labels, predictions, average='binary')\n",
    "    acc = accuracy_score(labels, predictions)\n",
    "    return {\n",
    "        \"accuracy\": acc,\n",
    "        \"precision\": precision,\n",
    "        \"recall\": recall,\n",
    "        \"f1\": f1\n",
    "    }"
   ]
  },
  {
   "cell_type": "code",
   "execution_count": null,
   "id": "a1d2fdf1",
   "metadata": {},
   "outputs": [],
   "source": [
    "# Paso 2: Configurar nuevos argumentos con mejores hiperparámetros\n",
    "best_training_args = TrainingArguments(\n",
    "    output_dir=\"./best_model\",\n",
    "    eval_strategy=\"epoch\",\n",
    "    learning_rate=0.00041816745324925307,\n",
    "    per_device_train_batch_size=12,\n",
    "    num_train_epochs=2,\n",
    "    weight_decay=0.01,\n",
    "    logging_dir=\"./logs\",\n",
    "    logging_steps=10,\n",
    "    disable_tqdm=False\n",
    ")"
   ]
  },
  {
   "cell_type": "code",
   "execution_count": 52,
   "id": "164a0ca2",
   "metadata": {},
   "outputs": [],
   "source": [
    "# Paso 3: Definir el trainer con los mejores hiperparámetros\n",
    "best_trainer = Trainer(\n",
    "    model=model_init(),\n",
    "    args=best_training_args,\n",
    "    train_dataset=small_train_dataset,\n",
    "    eval_dataset=small_eval_dataset,\n",
    "    compute_metrics=compute_metrics\n",
    ")"
   ]
  },
  {
   "cell_type": "code",
   "execution_count": 53,
   "id": "ad1b42e9",
   "metadata": {},
   "outputs": [
    {
     "data": {
      "text/html": [
       "\n",
       "    <div>\n",
       "      \n",
       "      <progress value='18' max='18' style='width:300px; height:20px; vertical-align: middle;'></progress>\n",
       "      [18/18 04:49, Epoch 2/2]\n",
       "    </div>\n",
       "    <table border=\"1\" class=\"dataframe\">\n",
       "  <thead>\n",
       " <tr style=\"text-align: left;\">\n",
       "      <th>Epoch</th>\n",
       "      <th>Training Loss</th>\n",
       "      <th>Validation Loss</th>\n",
       "      <th>Accuracy</th>\n",
       "      <th>Precision</th>\n",
       "      <th>Recall</th>\n",
       "      <th>F1</th>\n",
       "    </tr>\n",
       "  </thead>\n",
       "  <tbody>\n",
       "    <tr>\n",
       "      <td>1</td>\n",
       "      <td>No log</td>\n",
       "      <td>0.167685</td>\n",
       "      <td>1.000000</td>\n",
       "      <td>1.000000</td>\n",
       "      <td>1.000000</td>\n",
       "      <td>1.000000</td>\n",
       "    </tr>\n",
       "    <tr>\n",
       "      <td>2</td>\n",
       "      <td>0.729100</td>\n",
       "      <td>0.007913</td>\n",
       "      <td>1.000000</td>\n",
       "      <td>1.000000</td>\n",
       "      <td>1.000000</td>\n",
       "      <td>1.000000</td>\n",
       "    </tr>\n",
       "  </tbody>\n",
       "</table><p>"
      ],
      "text/plain": [
       "<IPython.core.display.HTML object>"
      ]
     },
     "metadata": {},
     "output_type": "display_data"
    },
    {
     "name": "stderr",
     "output_type": "stream",
     "text": [
      "c:\\Users\\Maria Paula\\AppData\\Local\\Programs\\Python\\Python310\\lib\\site-packages\\torch\\utils\\data\\dataloader.py:665: UserWarning: 'pin_memory' argument is set as true but no accelerator is found, then device pinned memory won't be used.\n",
      "  warnings.warn(warn_msg)\n",
      "c:\\Users\\Maria Paula\\AppData\\Local\\Programs\\Python\\Python310\\lib\\site-packages\\torch\\utils\\data\\dataloader.py:665: UserWarning: 'pin_memory' argument is set as true but no accelerator is found, then device pinned memory won't be used.\n",
      "  warnings.warn(warn_msg)\n"
     ]
    },
    {
     "data": {
      "text/plain": [
       "TrainOutput(global_step=18, training_loss=0.430086816350619, metrics={'train_runtime': 330.0523, 'train_samples_per_second': 0.606, 'train_steps_per_second': 0.055, 'total_flos': 26493479731200.0, 'train_loss': 0.430086816350619, 'epoch': 2.0})"
      ]
     },
     "execution_count": 53,
     "metadata": {},
     "output_type": "execute_result"
    }
   ],
   "source": [
    "# Paso 4: Entrenar el modelo\n",
    "best_trainer.train()"
   ]
  },
  {
   "cell_type": "code",
   "execution_count": 54,
   "id": "e4d98955",
   "metadata": {},
   "outputs": [
    {
     "name": "stderr",
     "output_type": "stream",
     "text": [
      "c:\\Users\\Maria Paula\\AppData\\Local\\Programs\\Python\\Python310\\lib\\site-packages\\torch\\utils\\data\\dataloader.py:665: UserWarning: 'pin_memory' argument is set as true but no accelerator is found, then device pinned memory won't be used.\n",
      "  warnings.warn(warn_msg)\n"
     ]
    },
    {
     "data": {
      "text/html": [],
      "text/plain": [
       "<IPython.core.display.HTML object>"
      ]
     },
     "metadata": {},
     "output_type": "display_data"
    },
    {
     "name": "stdout",
     "output_type": "stream",
     "text": [
      "Evaluación del modelo con mejores hiperparámetros:\n",
      "{'eval_loss': 0.007913410663604736, 'eval_accuracy': 1.0, 'eval_precision': 1.0, 'eval_recall': 1.0, 'eval_f1': 1.0, 'eval_runtime': 6.8139, 'eval_samples_per_second': 3.669, 'eval_steps_per_second': 0.587, 'epoch': 2.0}\n"
     ]
    }
   ],
   "source": [
    "# Paso 5: Evaluar y mostrar métricas\n",
    "eval_results = best_trainer.evaluate()\n",
    "print(\"Evaluación del modelo con mejores hiperparámetros:\")\n",
    "print(eval_results)"
   ]
  },
  {
   "cell_type": "code",
   "execution_count": 60,
   "id": "d2b6ea73",
   "metadata": {},
   "outputs": [],
   "source": [
    "small_test_dataset = Subset(test_dataset, range(100))"
   ]
  },
  {
   "cell_type": "code",
   "execution_count": 61,
   "id": "7ca5a3b7",
   "metadata": {},
   "outputs": [
    {
     "name": "stderr",
     "output_type": "stream",
     "text": [
      "c:\\Users\\Maria Paula\\AppData\\Local\\Programs\\Python\\Python310\\lib\\site-packages\\torch\\utils\\data\\dataloader.py:665: UserWarning: 'pin_memory' argument is set as true but no accelerator is found, then device pinned memory won't be used.\n",
      "  warnings.warn(warn_msg)\n"
     ]
    }
   ],
   "source": [
    "# Paso 6: Obtener predicciones para matriz de confusión\n",
    "predictions = best_trainer.predict(small_test_dataset)\n",
    "y_true = predictions.label_ids\n",
    "y_pred = np.argmax(predictions.predictions, axis=-1)"
   ]
  },
  {
   "cell_type": "code",
   "execution_count": 62,
   "id": "6a9effc8",
   "metadata": {},
   "outputs": [
    {
     "name": "stdout",
     "output_type": "stream",
     "text": [
      "Reporte de clasificación:\n",
      "              precision    recall  f1-score   support\n",
      "\n",
      "           0       1.00      1.00      1.00        47\n",
      "           1       1.00      1.00      1.00        53\n",
      "\n",
      "    accuracy                           1.00       100\n",
      "   macro avg       1.00      1.00      1.00       100\n",
      "weighted avg       1.00      1.00      1.00       100\n",
      "\n"
     ]
    }
   ],
   "source": [
    "# Paso 7: Matriz de confusión\n",
    "cm = confusion_matrix(y_true, y_pred)\n",
    "print(\"Reporte de clasificación:\")\n",
    "print(classification_report(y_true, y_pred))"
   ]
  },
  {
   "cell_type": "code",
   "execution_count": 63,
   "id": "78500a58",
   "metadata": {},
   "outputs": [
    {
     "data": {
      "image/png": "[encoded data removed]",
      "text/plain": [
       "<Figure size 600x500 with 2 Axes>"
      ]
     },
     "metadata": {},
     "output_type": "display_data"
    }
   ],
   "source": [
    "# Visualización\n",
    "plt.figure(figsize=(6,5))\n",
    "sns.heatmap(cm, annot=True, fmt='d', cmap='Blues', xticklabels=[\"Fake\", \"Real\"], yticklabels=[\"Fake\", \"Real\"])\n",
    "plt.xlabel(\"Predicted\")\n",
    "plt.ylabel(\"Actual\")\n",
    "plt.title(\"Matriz de Confusión\")\n",
    "plt.show()"
   ]
  },
  {
   "cell_type": "code",
   "execution_count": 64,
   "id": "2909ca8c",
   "metadata": {},
   "outputs": [
    {
     "data": {
      "text/plain": [
       "('modelo_guardado/tokenizer_config.json',\n",
       " 'modelo_guardado/special_tokens_map.json',\n",
       " 'modelo_guardado/vocab.txt',\n",
       " 'modelo_guardado/added_tokens.json',\n",
       " 'modelo_guardado/tokenizer.json')"
      ]
     },
     "execution_count": 64,
     "metadata": {},
     "output_type": "execute_result"
    }
   ],
   "source": [
    "# Save the model\n",
    "best_trainer.save_model(\"modelo_guardado/\")\n",
    "tokenizer.save_pretrained(\"modelo_guardado/\")"
   ]
  }
 ],
 "metadata": {
  "kernelspec": {
   "display_name": "Python 3",
   "language": "python",
   "name": "python3"
  },
  "language_info": {
   "codemirror_mode": {
    "name": "ipython",
    "version": 3
   },
   "file_extension": ".py",
   "mimetype": "text/x-python",
   "name": "python",
   "nbconvert_exporter": "python",
   "pygments_lexer": "ipython3",
   "version": "3.10.0"
  }
 },
 "nbformat": 4,
 "nbformat_minor": 5
}
